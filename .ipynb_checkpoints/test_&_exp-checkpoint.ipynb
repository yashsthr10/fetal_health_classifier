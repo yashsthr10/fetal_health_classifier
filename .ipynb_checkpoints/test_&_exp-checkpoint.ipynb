{
 "cells": [
  {
   "cell_type": "code",
   "execution_count": 1,
   "id": "f7e2c1f0-2fa3-4c07-b675-8edd5328571f",
   "metadata": {},
   "outputs": [
    {
     "name": "stdout",
     "output_type": "stream",
     "text": [
      "Fitting 5 folds for each of 200 candidates, totalling 1000 fits\n",
      "Best Parameters for Decision Tree: {'criterion': 'gini', 'max_depth': 5, 'min_samples_leaf': 1, 'min_samples_split': 5}\n",
      "Decision Tree Training Accuracy: 0.8602\n",
      "Decision Tree Testing Accuracy: 0.8396\n"
     ]
    }
   ],
   "source": [
    "# Cell 1: Imports and Data Loading\n",
    "import numpy as np\n",
    "import pandas as pd\n",
    "import matplotlib.pyplot as plt\n",
    "import seaborn as sns\n",
    "from sklearn.preprocessing import StandardScaler\n",
    "from sklearn.model_selection import train_test_split, GridSearchCV, learning_curve\n",
    "from sklearn.metrics import confusion_matrix, accuracy_score, classification_report\n",
    "from sklearn.tree import DecisionTreeClassifier\n",
    "from sklearn.linear_model import LogisticRegression\n",
    "from sklearn.ensemble import RandomForestClassifier\n",
    "from imblearn.over_sampling import SMOTE\n",
    "from sklearn.impute import SimpleImputer\n",
    "import mlflow as mf\n",
    "from mlflow.tracking import MlflowClient\n",
    "import pickle\n",
    "\n",
    "data = pd.read_csv('framingham.csv')\n",
    "data.drop(columns=['education', 'male', 'BPMeds', 'prevalentStroke'], inplace=True)\n",
    "#data = data.dropna()\n",
    "# Cell 2: Data Splitting and Preprocessing\n",
    "X = data.drop(columns=['TenYearCHD'])\n",
    "y = data['TenYearCHD']\n",
    "\n",
    "X_train, X_test, y_train, y_test = train_test_split(X, y, test_size=0.2, random_state=42)\n",
    "\n",
    "# Handle missing values\n",
    "num_columns = X_train.select_dtypes(include=['int64', 'float64']).columns\n",
    "imputer = SimpleImputer(strategy=\"mean\")\n",
    "X_train[num_columns] = imputer.fit_transform(X_train[num_columns])\n",
    "X_test[num_columns] = imputer.transform(X_test[num_columns])\n",
    "\n",
    "# Scaling the data\n",
    "scaler = StandardScaler()\n",
    "X_train[num_columns] = scaler.fit_transform(X_train[num_columns])\n",
    "X_test[num_columns] = scaler.transform(X_test[num_columns])\n",
    "\n",
    "# Handling class imbalance\n",
    "#smote = SMOTE(sampling_strategy='auto', random_state=42)\n",
    "#X_train, y_train = smote.fit_resample(X_train, y_train)\n",
    "\n",
    "# Cell 3: Decision Tree Model\n",
    "param_grid_dtc = {\n",
    "    'max_depth': [3, 5, 7, 10, 12],\n",
    "    'min_samples_split': [2, 5, 10, 12],\n",
    "    'min_samples_leaf': [1, 2, 4, 6, 8],\n",
    "    'criterion': ['gini', 'entropy']\n",
    "}\n",
    "\n",
    "dtc = DecisionTreeClassifier(random_state=42)\n",
    "grid_search_dtc = GridSearchCV(estimator=dtc, param_grid=param_grid_dtc, cv=5, n_jobs=-1, verbose=1)\n",
    "grid_search_dtc.fit(X_train, y_train)\n",
    "\n",
    "best_dtc = grid_search_dtc.best_estimator_\n",
    "print(f\"Best Parameters for Decision Tree: {grid_search_dtc.best_params_}\")\n",
    "\n",
    "# Predictions\n",
    "y_train_pred = best_dtc.predict(X_train)\n",
    "y_test_pred = best_dtc.predict(X_test)\n",
    "print(f\"Decision Tree Training Accuracy: {accuracy_score(y_train, y_train_pred):.4f}\")\n",
    "print(f\"Decision Tree Testing Accuracy: {accuracy_score(y_test, y_test_pred):.4f}\")\n",
    "\n",
    "\n"
   ]
  },
  {
   "cell_type": "code",
   "execution_count": 4,
   "id": "f056f694-9934-45c1-92f0-7c68920d745c",
   "metadata": {},
   "outputs": [
    {
     "name": "stdout",
     "output_type": "stream",
     "text": [
      "Decision Tree Training Accuracy: 0.9088\n",
      "Decision Tree Testing Accuracy: 0.8514\n"
     ]
    }
   ],
   "source": [
    "y_train_pred = best_rf_clf.predict(X_train)\n",
    "y_test_pred = best_rf_clf.predict(X_test)\n",
    "\n",
    "print(f\"Decision Tree Training Accuracy: {accuracy_score(y_train, y_train_pred):.4f}\")\n",
    "print(f\"Decision Tree Testing Accuracy: {accuracy_score(y_test, y_test_pred):.4f}\")\n"
   ]
  },
  {
   "cell_type": "code",
   "execution_count": 5,
   "id": "09bb18fb-ed54-45ac-958f-eb4a4eb04b85",
   "metadata": {},
   "outputs": [
    {
     "name": "stdout",
     "output_type": "stream",
     "text": [
      "Decision Tree Training Accuracy: 0.8540\n",
      "Decision Tree Testing Accuracy: 0.8561\n"
     ]
    }
   ],
   "source": [
    "y_train_pred = best_log_reg.predict(X_train)\n",
    "y_test_pred = best_log_reg.predict(X_test)\n",
    "\n",
    "print(f\"Decision Tree Training Accuracy: {accuracy_score(y_train, y_train_pred):.4f}\")\n",
    "print(f\"Decision Tree Testing Accuracy: {accuracy_score(y_test, y_test_pred):.4f}\")\n"
   ]
  },
  {
   "cell_type": "code",
   "execution_count": 3,
   "id": "6d6805e1-fb18-402b-a38e-b597a1f36a33",
   "metadata": {},
   "outputs": [
    {
     "name": "stdout",
     "output_type": "stream",
     "text": [
      "Best Parameters for Logistic Regression: {'C': 0.1, 'penalty': 'l2'}\n",
      "Logistic Regression Accuracy: 0.8561\n",
      "Best Parameters for Random Forest: {'max_depth': 20, 'min_samples_leaf': 2, 'min_samples_split': 10, 'n_estimators': 50}\n",
      "Random Forest Accuracy: 0.8514\n"
     ]
    }
   ],
   "source": [
    "# Cell 4: Logistic Regression\n",
    "param_grid_lr = {\n",
    "    'penalty': ['l2', 'none'],\n",
    "    'C': [0.01, 0.1, 1, 10]\n",
    "}\n",
    "\n",
    "log_reg = LogisticRegression(random_state=42, max_iter=1000)\n",
    "grid_search_lr = GridSearchCV(estimator=log_reg, param_grid=param_grid_lr, cv=5, scoring='accuracy', n_jobs=-1)\n",
    "grid_search_lr.fit(X_train, y_train)\n",
    "\n",
    "best_log_reg = grid_search_lr.best_estimator_\n",
    "print(f\"Best Parameters for Logistic Regression: {grid_search_lr.best_params_}\")\n",
    "\n",
    "y_pred_lr = best_log_reg.predict(X_test)\n",
    "print(f\"Logistic Regression Accuracy: {accuracy_score(y_test, y_pred_lr):.4f}\")\n",
    "\n",
    "# Cell 5: Random Forest\n",
    "param_grid_rf = {\n",
    "    'n_estimators': [50, 75, 100],\n",
    "    'max_depth': [10, 20, 25],\n",
    "    'min_samples_split': [5, 10],\n",
    "    'min_samples_leaf': [2, 4]\n",
    "}\n",
    "\n",
    "rf_clf = RandomForestClassifier(random_state=42)\n",
    "grid_search_rf = GridSearchCV(estimator=rf_clf, param_grid=param_grid_rf, cv=5, scoring='accuracy', n_jobs=-1)\n",
    "grid_search_rf.fit(X_train, y_train)\n",
    "\n",
    "best_rf_clf = grid_search_rf.best_estimator_\n",
    "print(f\"Best Parameters for Random Forest: {grid_search_rf.best_params_}\")\n",
    "\n",
    "y_pred_rf = best_rf_clf.predict(X_test)\n",
    "print(f\"Random Forest Accuracy: {accuracy_score(y_test, y_pred_rf):.4f}\")\n",
    "\n",
    "# Save all models\n",
    "with open('decision_tree_classifier.pkl', 'wb') as f:\n",
    "    pickle.dump(best_dtc, f)\n",
    "\n",
    "with open('logistic_regression.pkl', 'wb') as f:\n",
    "    pickle.dump(best_log_reg, f)\n",
    "\n",
    "with open('random_forest_classifier.pkl', 'wb') as f:\n",
    "    pickle.dump(best_rf_clf, f)"
   ]
  },
  {
   "cell_type": "code",
   "execution_count": 6,
   "id": "d110833d-8d73-4eb0-864f-92e2e45f1769",
   "metadata": {},
   "outputs": [],
   "source": [
    "\n",
    "#creating Input Pipeline For Our Model\n",
    "new_data = pd.DataFrame({\n",
    "    \"age\": [53],  \n",
    "    \"currentSmoker\": [1],  \n",
    "    \"cigsPerDay\": [20],  \n",
    "    \"prevalentHyp\": [0], \n",
    "    \"diabetes\": [1], \n",
    "    \"totChol\": [220.0], \n",
    "    \"sysBP\": [140.0], \n",
    "    \"diaBP\": [120.0], \n",
    "    \"BMI\": [31.0],\n",
    "    \"heartRate\": [90], \n",
    "    \"glucose\": [80], \n",
    "    \n",
    "})\n",
    "\n",
    "\n",
    "\n",
    "#saving the model\n",
    "import pickle\n",
    "\n",
    "with open('randomForest_classifier.pkl','wb') as f:\n",
    "    pickle.dump(best_rf_clf,f)"
   ]
  },
  {
   "cell_type": "code",
   "execution_count": null,
   "id": "abd0e0de-74b9-4944-8d07-595949385cf6",
   "metadata": {},
   "outputs": [],
   "source": []
  }
 ],
 "metadata": {
  "kernelspec": {
   "display_name": "Python 3 (ipykernel)",
   "language": "python",
   "name": "python3"
  },
  "language_info": {
   "codemirror_mode": {
    "name": "ipython",
    "version": 3
   },
   "file_extension": ".py",
   "mimetype": "text/x-python",
   "name": "python",
   "nbconvert_exporter": "python",
   "pygments_lexer": "ipython3",
   "version": "3.8.0"
  }
 },
 "nbformat": 4,
 "nbformat_minor": 5
}
